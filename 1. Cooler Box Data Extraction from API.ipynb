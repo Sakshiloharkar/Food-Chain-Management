{
 "cells": [
  {
   "cell_type": "code",
   "execution_count": null,
   "id": "41a26d3a",
   "metadata": {},
   "outputs": [],
   "source": [
    "# Import Libraries for data extraction through API\n",
    "import requests\n",
    "import json\n",
    "import pandas as pd\n",
    "from pandas import json_normalize\n",
    "from datetime import datetime, timedelta\n",
    "\n",
    "# Mentioning the API key from where data has been extracted\n",
    "API_KEY={''}"
   ]
  },
  {
   "cell_type": "code",
   "execution_count": null,
   "id": "0c3c82f6",
   "metadata": {},
   "outputs": [],
   "source": [
    "date=datetime.strptime(input(\"Enter Date('%Y-%m-%d'):\"), '%Y-%m-%d')"
   ]
  },
  {
   "cell_type": "markdown",
   "id": "ed80a576",
   "metadata": {},
   "source": [
    "# 1.1 Data Extraction- Monthly-Parameter- Light"
   ]
  },
  {
   "cell_type": "code",
   "execution_count": null,
   "id": "68af894d",
   "metadata": {},
   "outputs": [],
   "source": [
    "# Code for Extraction of Data through API\n",
    "\n",
    "# The size of each step in days\n",
    "dataframeLight=pd.DataFrame()\n",
    "day_delta = timedelta(days=1)\n",
    "delta = timedelta(days=7)\n",
    "print(day_delta)\n",
    "print(delta)\n",
    "\n",
    "start_date = date\n",
    "\n",
    "tagid= [2031010108,2031010506,2031010170]\n",
    "        \n",
    "index= 0\n",
    "\n",
    "while index < len(tagid):\n",
    "    con_tagid = str(tagid[index])\n",
    "    print(type(con_tagid),'tagid:',con_tagid)\n",
    "    \n",
    "    param=str('light') \n",
    "    print('Parameter Name:',param)\n",
    "\n",
    "    start_date1 = start_date\n",
    "    \n",
    "    #start_date = input(\"Enter Date:\")\n",
    "    end_date = start_date1 + 31*day_delta\n",
    "    print(end_date)\n",
    "    Dategap=((end_date - start_date1).days)/7\n",
    "    print(\"Dategap:\",Dategap)\n",
    "\n",
    "    for i in range(int(Dategap)):\n",
    "        print (\"Loop:\",i)\n",
    "        Y= start_date1\n",
    "        X=(start_date1 + 6*day_delta)\n",
    "        firstDate_time= Y.strftime(\"%Y-%m-%dT%H:%M:%S\")\n",
    "        LastDate_time= X.strftime(\"%Y-%m-%dT%H:%M:%S\")\n",
    "        print('FirstDate_time:',firstDate_time)\n",
    "        print('LastDate_time:',LastDate_time)\n",
    "\n",
    "        url=''+param+'?startTime='+firstDate_time+'&endTime='+LastDate_time+'&tagId='+con_tagid\n",
    "        r=requests.post(url,headers=API_KEY)\n",
    "        data = r.json()\n",
    "        #print(data)\n",
    "        works_data=json_normalize(data=data['data'],record_path=['telData'])\n",
    "        df1=pd.DataFrame.from_dict(works_data)\n",
    "        dataframeLight=pd.concat([df1,dataframeLight],ignore_index=True)\n",
    "        print(dataframeLight)\n",
    "       \n",
    "        start_date1 += delta\n",
    "        \n",
    "    index = index + 1"
   ]
  },
  {
   "cell_type": "code",
   "execution_count": null,
   "id": "84484a0b",
   "metadata": {},
   "outputs": [],
   "source": [
    "dataframeLight['tag_id'].value_counts()"
   ]
  },
  {
   "cell_type": "code",
   "execution_count": null,
   "id": "fe91c878",
   "metadata": {},
   "outputs": [],
   "source": [
    "dataframeLight.to_excel('Monthly_Rawdata_Light.xlsx',index=False)"
   ]
  },
  {
   "cell_type": "code",
   "execution_count": null,
   "id": "3b2dba95",
   "metadata": {},
   "outputs": [],
   "source": []
  },
  {
   "cell_type": "markdown",
   "id": "6881bb61",
   "metadata": {},
   "source": [
    "# 1.2 Data Extraction- Monthly-Parameter- Temp"
   ]
  },
  {
   "cell_type": "code",
   "execution_count": null,
   "id": "f3338b21",
   "metadata": {},
   "outputs": [],
   "source": [
    "# Code for Extraction of Data through API\n",
    "\n",
    "# Creating a blank dataframe\n",
    "dataframeTemp=pd.DataFrame()\n",
    "\n",
    "# The size of each step in days\n",
    "day_delta = timedelta(days=1)\n",
    "delta = timedelta(days=7)\n",
    "print(day_delta)\n",
    "print(delta)\n",
    "\n",
    "start_date=date\n",
    "\n",
    "# Mentioning the sensorids\n",
    "\n",
    "tagid= [2031010108,2031010506,2031010170]\n",
    "\n",
    "index= 0\n",
    "\n",
    "while index < len(tagid):\n",
    "    con_tagid = str(tagid[index])\n",
    "    print(type(con_tagid),'tagid:',con_tagid)\n",
    "    \n",
    "    param=str('temperature') \n",
    "    print('Parameter Name:',param)\n",
    "    \n",
    "    start_date1=start_date\n",
    "\n",
    "    #mentioning the start date and for no of days data is required\n",
    "    end_date = start_date1 + 31*day_delta      #End date is 31st days of starting day\n",
    "    print('end_date:',end_date)\n",
    "    Dategap=((end_date - start_date1).days)/7\n",
    "    print(\"Dategap:\",Dategap)\n",
    "\n",
    "    for i in range(int(Dategap)):\n",
    "        print (\"Loop:\",i)\n",
    "        Y= start_date1\n",
    "        X=(start_date1 + 6*day_delta)\n",
    "        firstDate_time= Y.strftime(\"%Y-%m-%dT%H:%M:%S\")\n",
    "        LastDate_time= X.strftime(\"%Y-%m-%dT%H:%M:%S\")\n",
    "        print('FirstDate_time:',firstDate_time)\n",
    "        print('LastDate_time:',LastDate_time)\n",
    "\n",
    "        \n",
    "        #Mentioning the URl for data extraction\n",
    "        url=''+param+'?startTime='+firstDate_time+'&endTime='+LastDate_time+'&tagId='+con_tagid\n",
    "        r=requests.post(url,headers=API_KEY)\n",
    "        data = r.json()\n",
    "       \n",
    "        #Normalizing the data\n",
    "        works_data=json_normalize(data=data['data'],record_path=['telData'])\n",
    "        \n",
    "        #appending the data into one dataframe\n",
    "        df1=pd.DataFrame.from_dict(works_data)\n",
    "        dataframeTemp=pd.concat([df1,dataframeTemp],ignore_index=True)\n",
    "        print(dataframeTemp)\n",
    "        \n",
    "        start_date1 += delta\n",
    "\n",
    "    index = index + 1"
   ]
  },
  {
   "cell_type": "code",
   "execution_count": null,
   "id": "a9926a21",
   "metadata": {},
   "outputs": [],
   "source": [
    "dataframeTemp.columns"
   ]
  },
  {
   "cell_type": "code",
   "execution_count": null,
   "id": "423e3fc4",
   "metadata": {},
   "outputs": [],
   "source": [
    "dataframeTemp['tag_id'].value_counts()"
   ]
  },
  {
   "cell_type": "code",
   "execution_count": null,
   "id": "9ba177be",
   "metadata": {},
   "outputs": [],
   "source": [
    "dataframeTemp.to_excel('Monthly_Rawdata_Temp.xlsx',index=False)"
   ]
  },
  {
   "cell_type": "code",
   "execution_count": null,
   "id": "c0c67701",
   "metadata": {},
   "outputs": [],
   "source": []
  },
  {
   "cell_type": "markdown",
   "id": "ffe70983",
   "metadata": {},
   "source": [
    "# 1.3 Data Extraction- Monthly-Parameter- Jerk"
   ]
  },
  {
   "cell_type": "code",
   "execution_count": null,
   "id": "1ba5ec3a",
   "metadata": {},
   "outputs": [],
   "source": [
    "# Code for Extraction of Data through API\n",
    "\n",
    "# Creating a blank dataframe\n",
    "dataframeJerk=pd.DataFrame()\n",
    "\n",
    "# The size of each step in days\n",
    "day_delta = timedelta(days=1)\n",
    "delta = timedelta(days=7)\n",
    "print(day_delta)\n",
    "print(delta)\n",
    "\n",
    "start_date=date\n",
    "\n",
    "# Mentioning the sensorids\n",
    "\n",
    "tagid= [2031010108,2031010506,2031010170]\n",
    "\n",
    "index= 0\n",
    "\n",
    "while index < len(tagid):\n",
    "    con_tagid = str(tagid[index])\n",
    "    print(type(con_tagid),'tagid:',con_tagid)\n",
    "    \n",
    "    param=str('jerks') \n",
    "    print('Parameter Name:',param)\n",
    "    \n",
    "    start_date1 = start_date\n",
    "\n",
    "    #mentioning the no of days data is required\n",
    "    end_date = start_date1 + 31*day_delta #End date is 31st days of starting day\n",
    "    print('end_date:',end_date)\n",
    "    Dategap=((end_date - start_date1).days)/7\n",
    "    print(\"Dategap:\",Dategap)\n",
    "\n",
    "    for i in range(int(Dategap)):\n",
    "        print (\"Loop:\",i)\n",
    "        Y= start_date1\n",
    "        X=(start_date1 + 6*day_delta)\n",
    "        firstDate_time= Y.strftime(\"%Y-%m-%dT%H:%M:%S\")\n",
    "        LastDate_time= X.strftime(\"%Y-%m-%dT%H:%M:%S\")\n",
    "        print('FirstDate_time:',firstDate_time)\n",
    "        print('LastDate_time:',LastDate_time)\n",
    "\n",
    "        \n",
    "        #mentioning the URl for data extraction\n",
    "        url=''+param+'?startTime='+firstDate_time+'&endTime='+LastDate_time+'&tagId='+con_tagid\n",
    "        r=requests.post(url,headers=API_KEY)\n",
    "        data = r.json()\n",
    "       \n",
    "        #Normalizing the data\n",
    "        works_data=json_normalize(data=data['data'],record_path=['telData'])\n",
    "        \n",
    "        #appending the data into one dataframe\n",
    "        df1=pd.DataFrame.from_dict(works_data)\n",
    "        dataframeJerk=pd.concat([df1,dataframeJerk],ignore_index=True)\n",
    "        print(dataframeJerk)\n",
    "        \n",
    "        start_date1 += delta\n",
    "\n",
    "    index = index + 1"
   ]
  },
  {
   "cell_type": "code",
   "execution_count": null,
   "id": "a059281a",
   "metadata": {},
   "outputs": [],
   "source": [
    "dataframeJerk.columns"
   ]
  },
  {
   "cell_type": "code",
   "execution_count": null,
   "id": "b749b345",
   "metadata": {},
   "outputs": [],
   "source": [
    "dataframeJerk['tag_id'].value_counts()"
   ]
  },
  {
   "cell_type": "code",
   "execution_count": null,
   "id": "8dfc2326",
   "metadata": {},
   "outputs": [],
   "source": [
    "dataframeJerk.to_excel('Monthly_Rawdata_Jerk.xlsx',index=False)"
   ]
  },
  {
   "cell_type": "code",
   "execution_count": null,
   "id": "3e20adb6",
   "metadata": {},
   "outputs": [],
   "source": []
  },
  {
   "cell_type": "markdown",
   "id": "3cf656bf",
   "metadata": {},
   "source": [
    "# 1.4 Data Extraction- Monthly-Location"
   ]
  },
  {
   "cell_type": "code",
   "execution_count": null,
   "id": "1b0a0630",
   "metadata": {
    "scrolled": true
   },
   "outputs": [],
   "source": [
    "# Code for Extraction of Data through API\n",
    "\n",
    "# The size of each step in days\n",
    "dataframe=pd.DataFrame()\n",
    "day_delta = timedelta(days=1)\n",
    "delta = timedelta(days=7)\n",
    "print(day_delta)\n",
    "print(delta)\n",
    "\n",
    "start_date=date\n",
    "\n",
    "tagid=[2031010108,2031010506,2031010170]\n",
    "\n",
    "index= 0\n",
    "\n",
    "while index < len(tagid):\n",
    "    con_tagid = str(tagid[index])\n",
    "    print(con_tagid)\n",
    "    \n",
    "    Location=str('locations') \n",
    "    #print(Location)\n",
    "    \n",
    "    start_date1=start_date\n",
    "    \n",
    "    end_date = start_date1 + 31*day_delta\n",
    "    print(end_date)\n",
    "    Dategap=((end_date - start_date1).days)/7\n",
    "    print(\"Dategap:\",Dategap)\n",
    "\n",
    "\n",
    "    for i in range(int(Dategap)):\n",
    "        print (\"Loop:\",i)\n",
    "        Y= start_date1\n",
    "        X= (start_date1 + 6*day_delta)\n",
    "        firstDate_time= Y.strftime(\"%Y-%m-%dT%H:%M:%S\")\n",
    "        LastDate_time= X.strftime(\"%Y-%m-%dT%H:%M:%S\")\n",
    "        print('FirstDate_time:',firstDate_time)\n",
    "        print('LastDate_time:',LastDate_time)\n",
    "\n",
    "        \n",
    "        url=''+Location+'?startTime='+firstDate_time+'&endTime='+LastDate_time+'&tagId='+con_tagid\n",
    "        r=requests.post(url,headers=API_KEY)\n",
    "        data = r.json()\n",
    "        data\n",
    "        \n",
    "        try:\n",
    "            works_data=json_normalize(data=data['data'],record_path=['telData'])\n",
    "        \n",
    "            df=pd.DataFrame.from_dict(works_data)\n",
    "            dataframe=pd.concat([df,dataframe],ignore_index=True)\n",
    "            print(dataframe)\n",
    "        except NotImplementedError as e:\n",
    "            print(e)\n",
    "        \n",
    "        start_date1 += delta\n",
    "    \n",
    "    index = index + 1"
   ]
  },
  {
   "cell_type": "code",
   "execution_count": null,
   "id": "c93d1713",
   "metadata": {},
   "outputs": [],
   "source": [
    "dataframe.columns"
   ]
  },
  {
   "cell_type": "code",
   "execution_count": null,
   "id": "01afcec3",
   "metadata": {},
   "outputs": [],
   "source": [
    "dataframe['gw'].value_counts()"
   ]
  },
  {
   "cell_type": "code",
   "execution_count": null,
   "id": "450fc0ba",
   "metadata": {},
   "outputs": [],
   "source": [
    "dataframe.to_excel('Monthly_Rawdata_Location.xlsx',index=False)"
   ]
  },
  {
   "cell_type": "code",
   "execution_count": null,
   "id": "5ccfc649",
   "metadata": {},
   "outputs": [],
   "source": []
  }
 ],
 "metadata": {
  "kernelspec": {
   "display_name": "Python 3 (ipykernel)",
   "language": "python",
   "name": "python3"
  },
  "language_info": {
   "codemirror_mode": {
    "name": "ipython",
    "version": 3
   },
   "file_extension": ".py",
   "mimetype": "text/x-python",
   "name": "python",
   "nbconvert_exporter": "python",
   "pygments_lexer": "ipython3",
   "version": "3.9.7"
  }
 },
 "nbformat": 4,
 "nbformat_minor": 5
}
