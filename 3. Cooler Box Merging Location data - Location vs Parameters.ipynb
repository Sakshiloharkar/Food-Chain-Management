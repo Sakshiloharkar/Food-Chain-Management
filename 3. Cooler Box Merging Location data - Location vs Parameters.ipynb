{
 "cells": [
  {
   "cell_type": "markdown",
   "id": "cb5f8e94",
   "metadata": {},
   "source": [
    "# 3.1 Merging Temp data with location"
   ]
  },
  {
   "cell_type": "code",
   "execution_count": null,
   "id": "f2be4ee2",
   "metadata": {},
   "outputs": [],
   "source": [
    "import pandas as pd\n",
    "import numpy as np\n",
    "import datetime"
   ]
  },
  {
   "cell_type": "code",
   "execution_count": null,
   "id": "783dbdd6",
   "metadata": {},
   "outputs": [],
   "source": [
    "Temp = pd.read_excel('TS converted Temp Raw Data.xlsx')"
   ]
  },
  {
   "cell_type": "code",
   "execution_count": null,
   "id": "e940c685",
   "metadata": {},
   "outputs": [],
   "source": [
    "Temp.head()"
   ]
  },
  {
   "cell_type": "code",
   "execution_count": null,
   "id": "ca1d4259",
   "metadata": {},
   "outputs": [],
   "source": [
    "Loc = pd.read_excel('TS converted Location Raw Data.xlsx')"
   ]
  },
  {
   "cell_type": "code",
   "execution_count": null,
   "id": "a084762a",
   "metadata": {},
   "outputs": [],
   "source": [
    "Loc.head()"
   ]
  },
  {
   "cell_type": "code",
   "execution_count": null,
   "id": "8afa07d5",
   "metadata": {},
   "outputs": [],
   "source": [
    "Loc['DateTime']=Loc['con_datetime'].dt.round('10min')"
   ]
  },
  {
   "cell_type": "code",
   "execution_count": null,
   "id": "44f75fd2",
   "metadata": {},
   "outputs": [],
   "source": [
    "Loc.head()"
   ]
  },
  {
   "cell_type": "code",
   "execution_count": null,
   "id": "9b4d6365",
   "metadata": {},
   "outputs": [],
   "source": [
    "Temp['DateTime']=Temp['con_datetime'].dt.round('10min')"
   ]
  },
  {
   "cell_type": "code",
   "execution_count": null,
   "id": "d371e7b3",
   "metadata": {},
   "outputs": [],
   "source": [
    "Temp.head()"
   ]
  },
  {
   "cell_type": "code",
   "execution_count": null,
   "id": "1739ca71",
   "metadata": {},
   "outputs": [],
   "source": [
    "# Extract month & year from date\n",
    "Temp['Month'] = Temp['DateTime'].dt.month\n",
    "Temp['Year'] = Temp['DateTime'].dt.year"
   ]
  },
  {
   "cell_type": "code",
   "execution_count": null,
   "id": "946b61c9",
   "metadata": {},
   "outputs": [],
   "source": [
    "Temp.head()"
   ]
  },
  {
   "cell_type": "code",
   "execution_count": null,
   "id": "dced593b",
   "metadata": {},
   "outputs": [],
   "source": [
    "# Add truck no column to identify data later\n",
    "def Box(tag_id):\n",
    "    if tag_id == 2031010108:\n",
    "        return \"AHB-003\"\n",
    "    elif tag_id == 2031010170:\n",
    "        return \"AHB-001\"\n",
    "    elif tag_id == 2031010506:\n",
    "        return \"AHB-002\"\n",
    "    else:\n",
    "        return \"NaN\"\n",
    "\n",
    "Temp[\"Box no\"] = Temp[\"tag_id\"].apply(lambda tag_id: Box(tag_id))"
   ]
  },
  {
   "cell_type": "code",
   "execution_count": null,
   "id": "42c16ebb",
   "metadata": {},
   "outputs": [],
   "source": [
    "Temp.head()"
   ]
  },
  {
   "cell_type": "code",
   "execution_count": null,
   "id": "53d9d462",
   "metadata": {},
   "outputs": [],
   "source": [
    "# Add truck no column to identify data later\n",
    "def Box(tag_id):\n",
    "    if tag_id == 2031010108:\n",
    "        return \"AHB-003\"\n",
    "    elif tag_id == 2031010170:\n",
    "        return \"AHB-001\"\n",
    "    elif tag_id == 2031010506:\n",
    "        return \"AHB-002\"\n",
    "    else:\n",
    "        return \"NaN\"\n",
    "\n",
    "Loc[\"Box no\"] = Loc[\"tag_id\"].apply(lambda tag_id: Box(tag_id))"
   ]
  },
  {
   "cell_type": "code",
   "execution_count": null,
   "id": "5be16ab6",
   "metadata": {},
   "outputs": [],
   "source": [
    "Loc.head()"
   ]
  },
  {
   "cell_type": "code",
   "execution_count": null,
   "id": "28957763",
   "metadata": {},
   "outputs": [],
   "source": [
    "lat_lon=Loc.copy()"
   ]
  },
  {
   "cell_type": "markdown",
   "id": "689ba803",
   "metadata": {},
   "source": [
    "# Add x column to concat con_datetime & Truck_no in temp & lat_lon dataframe"
   ]
  },
  {
   "cell_type": "code",
   "execution_count": null,
   "id": "828c3928",
   "metadata": {},
   "outputs": [],
   "source": [
    "lat_lon['DateTime']=lat_lon['DateTime'].astype(str)"
   ]
  },
  {
   "cell_type": "code",
   "execution_count": null,
   "id": "a32d4fa9",
   "metadata": {},
   "outputs": [],
   "source": [
    "lat_lon['x']=lat_lon['DateTime']+lat_lon['Box no']\n",
    "lat_lon"
   ]
  },
  {
   "cell_type": "code",
   "execution_count": null,
   "id": "b4a6b58e",
   "metadata": {},
   "outputs": [],
   "source": [
    "Temp['DateTime']=Temp['DateTime'].astype(str)"
   ]
  },
  {
   "cell_type": "code",
   "execution_count": null,
   "id": "4d42a7bc",
   "metadata": {},
   "outputs": [],
   "source": [
    "Temp['x']=Temp['DateTime']+Temp['Box no']\n",
    "Temp"
   ]
  },
  {
   "cell_type": "code",
   "execution_count": null,
   "id": "f43fceda",
   "metadata": {},
   "outputs": [],
   "source": [
    "Temp['Box no'].value_counts()"
   ]
  },
  {
   "cell_type": "code",
   "execution_count": null,
   "id": "9057c248",
   "metadata": {},
   "outputs": [],
   "source": []
  },
  {
   "cell_type": "markdown",
   "id": "88ca7477",
   "metadata": {},
   "source": [
    "# Performing Left join to find Location of Temp Data"
   ]
  },
  {
   "cell_type": "code",
   "execution_count": null,
   "id": "960a12dc",
   "metadata": {},
   "outputs": [],
   "source": []
  },
  {
   "cell_type": "code",
   "execution_count": null,
   "id": "16ed0662",
   "metadata": {},
   "outputs": [],
   "source": [
    "Left_join = pd.merge( lat_lon, Temp,\n",
    "                     on ='x', \n",
    "                     how ='left')\n",
    "Left_join"
   ]
  },
  {
   "cell_type": "code",
   "execution_count": null,
   "id": "c5a97643",
   "metadata": {},
   "outputs": [],
   "source": [
    "Temp_Loc= Left_join.copy()"
   ]
  },
  {
   "cell_type": "code",
   "execution_count": null,
   "id": "908bb0e9",
   "metadata": {},
   "outputs": [],
   "source": [
    "Temp_Loc['Box no_x'].value_counts()"
   ]
  },
  {
   "cell_type": "code",
   "execution_count": null,
   "id": "7e18faeb",
   "metadata": {},
   "outputs": [],
   "source": [
    "Temp_Loc.dropna(axis=0, how='any', thresh=None, subset=None, inplace=True)"
   ]
  },
  {
   "cell_type": "code",
   "execution_count": null,
   "id": "85f0582b",
   "metadata": {},
   "outputs": [],
   "source": [
    "Temp_Loc.head()"
   ]
  },
  {
   "cell_type": "code",
   "execution_count": null,
   "id": "b76692cc",
   "metadata": {},
   "outputs": [],
   "source": [
    "Temp_Loc['Box no_y'].value_counts()"
   ]
  },
  {
   "cell_type": "code",
   "execution_count": null,
   "id": "0decc7fb",
   "metadata": {},
   "outputs": [],
   "source": [
    "Temp_Loc.drop(['x','con_datetime_y','Box no_y'],axis=1,inplace=True)"
   ]
  },
  {
   "cell_type": "code",
   "execution_count": null,
   "id": "ddaa2153",
   "metadata": {},
   "outputs": [],
   "source": [
    "Temp_Loc.head()"
   ]
  },
  {
   "cell_type": "code",
   "execution_count": null,
   "id": "0399f94c",
   "metadata": {},
   "outputs": [],
   "source": [
    "Temp_Loc.to_excel('Temp with Location.xlsx',index=False)"
   ]
  },
  {
   "cell_type": "markdown",
   "id": "6a006ad3",
   "metadata": {},
   "source": [
    "# 3.2 Merging Light data with location"
   ]
  },
  {
   "cell_type": "code",
   "execution_count": null,
   "id": "cddd8865",
   "metadata": {},
   "outputs": [],
   "source": [
    "Light = pd.read_excel('TS converted Light Raw Data.xlsx')"
   ]
  },
  {
   "cell_type": "code",
   "execution_count": null,
   "id": "e5620215",
   "metadata": {},
   "outputs": [],
   "source": [
    "Light.head()"
   ]
  },
  {
   "cell_type": "code",
   "execution_count": null,
   "id": "1d313910",
   "metadata": {},
   "outputs": [],
   "source": [
    "# Extract month & year from date\n",
    "Light['Month'] = Light['con_datetime'].dt.month\n",
    "Light['Year'] = Light['con_datetime'].dt.year"
   ]
  },
  {
   "cell_type": "code",
   "execution_count": null,
   "id": "6d0f0abe",
   "metadata": {},
   "outputs": [],
   "source": [
    "Light.head()"
   ]
  },
  {
   "cell_type": "code",
   "execution_count": null,
   "id": "53cdec58",
   "metadata": {},
   "outputs": [],
   "source": [
    "Loc = pd.read_excel('TS converted Location Raw Data.xlsx')"
   ]
  },
  {
   "cell_type": "code",
   "execution_count": null,
   "id": "69f309d4",
   "metadata": {},
   "outputs": [],
   "source": [
    "Loc.head()"
   ]
  },
  {
   "cell_type": "code",
   "execution_count": null,
   "id": "492ff139",
   "metadata": {},
   "outputs": [],
   "source": [
    "Loc['DateTime']=Loc['con_datetime'].dt.round('10min')"
   ]
  },
  {
   "cell_type": "code",
   "execution_count": null,
   "id": "faa44c87",
   "metadata": {},
   "outputs": [],
   "source": [
    "Loc.head()"
   ]
  },
  {
   "cell_type": "code",
   "execution_count": null,
   "id": "2caccf73",
   "metadata": {},
   "outputs": [],
   "source": [
    "# Add truck no column to identify data later\n",
    "def Box(tag_id):\n",
    "    if tag_id == 2031010108:\n",
    "        return \"AHB-003\"\n",
    "    elif tag_id == 2031010170:\n",
    "        return \"AHB-001\"\n",
    "    elif tag_id == 2031010506:\n",
    "        return \"AHB-002\"\n",
    "    else:\n",
    "        return \"NaN\"\n",
    "\n",
    "Light[\"Box no\"] = Light[\"tag_id\"].apply(lambda tag_id: Box(tag_id))"
   ]
  },
  {
   "cell_type": "code",
   "execution_count": null,
   "id": "eeca5dcf",
   "metadata": {},
   "outputs": [],
   "source": [
    "Light.head()"
   ]
  },
  {
   "cell_type": "code",
   "execution_count": null,
   "id": "7a4ed9f6",
   "metadata": {},
   "outputs": [],
   "source": [
    "# Add truck no column to identify data later\n",
    "def Box(tag_id):\n",
    "    if tag_id == 2031010108:\n",
    "        return \"AHB-003\"\n",
    "    elif tag_id == 2031010170:\n",
    "        return \"AHB-001\"\n",
    "    elif tag_id == 2031010506:\n",
    "        return \"AHB-002\"\n",
    "    else:\n",
    "        return \"NaN\"\n",
    "\n",
    "Loc[\"Box no\"] = Loc[\"tag_id\"].apply(lambda tag_id: Box(tag_id))"
   ]
  },
  {
   "cell_type": "code",
   "execution_count": null,
   "id": "e10bbbe5",
   "metadata": {},
   "outputs": [],
   "source": [
    "Loc.head()"
   ]
  },
  {
   "cell_type": "code",
   "execution_count": null,
   "id": "3923f0c3",
   "metadata": {},
   "outputs": [],
   "source": [
    "lat_lon=Loc.copy()"
   ]
  },
  {
   "cell_type": "code",
   "execution_count": null,
   "id": "8774c3d1",
   "metadata": {},
   "outputs": [],
   "source": [
    "lat_lon['DateTime']=lat_lon['DateTime'].astype(str)"
   ]
  },
  {
   "cell_type": "code",
   "execution_count": null,
   "id": "ae3fefe4",
   "metadata": {},
   "outputs": [],
   "source": [
    "lat_lon['x']=lat_lon['DateTime']+lat_lon['Box no']\n",
    "lat_lon"
   ]
  },
  {
   "cell_type": "code",
   "execution_count": null,
   "id": "6ab1f9e5",
   "metadata": {},
   "outputs": [],
   "source": [
    "Light['con_datetime']=Light['con_datetime'].astype(str)"
   ]
  },
  {
   "cell_type": "code",
   "execution_count": null,
   "id": "06d66440",
   "metadata": {},
   "outputs": [],
   "source": [
    "Light['x']=Light['con_datetime']+Light['Box no']\n",
    "Light"
   ]
  },
  {
   "cell_type": "code",
   "execution_count": null,
   "id": "4fe6c984",
   "metadata": {},
   "outputs": [],
   "source": [
    "Light['Box no'].value_counts()"
   ]
  },
  {
   "cell_type": "code",
   "execution_count": null,
   "id": "7ea4d38b",
   "metadata": {},
   "outputs": [],
   "source": [
    "Left_join = pd.merge(lat_lon, \n",
    "                     Light, \n",
    "                     on ='x', \n",
    "                     how ='left')\n",
    "Left_join"
   ]
  },
  {
   "cell_type": "code",
   "execution_count": null,
   "id": "2f49a377",
   "metadata": {},
   "outputs": [],
   "source": [
    "Light_Loc=Left_join.copy()"
   ]
  },
  {
   "cell_type": "code",
   "execution_count": null,
   "id": "01f92714",
   "metadata": {},
   "outputs": [],
   "source": [
    "Light_Loc.head()"
   ]
  },
  {
   "cell_type": "code",
   "execution_count": null,
   "id": "a31240a6",
   "metadata": {},
   "outputs": [],
   "source": [
    "Light_Loc.dropna(axis=0, how='any', thresh=None, subset=None, inplace=True)"
   ]
  },
  {
   "cell_type": "code",
   "execution_count": null,
   "id": "2b71fa4a",
   "metadata": {},
   "outputs": [],
   "source": [
    "Light_Loc.head()"
   ]
  },
  {
   "cell_type": "code",
   "execution_count": null,
   "id": "b1c05f56",
   "metadata": {},
   "outputs": [],
   "source": [
    "# Add column lidopen, where intensity >= 1,formula to calculate lidopen\n",
    "Light_Loc['Lidopen']=np.where(Light_Loc['intensity']>=1,1,0)\n",
    "Light_Loc.head()"
   ]
  },
  {
   "cell_type": "code",
   "execution_count": null,
   "id": "b5a32c88",
   "metadata": {},
   "outputs": [],
   "source": [
    "Light_Loc.drop(['x','con_datetime_y','Box no_y','intensity'],axis=1,inplace=True)"
   ]
  },
  {
   "cell_type": "code",
   "execution_count": null,
   "id": "f19447e9",
   "metadata": {},
   "outputs": [],
   "source": [
    "Light_Loc.head()"
   ]
  },
  {
   "cell_type": "code",
   "execution_count": null,
   "id": "b96a4dcd",
   "metadata": {},
   "outputs": [],
   "source": [
    "# To display location where lidopen == 1\n",
    "Result=Light_Loc.loc[(Light_Loc['Lidopen']==1)]\n",
    "Result.head()"
   ]
  },
  {
   "cell_type": "code",
   "execution_count": null,
   "id": "4236c001",
   "metadata": {},
   "outputs": [],
   "source": [
    "Result.to_excel('Lidopen with location.xlsx',index=False)"
   ]
  },
  {
   "cell_type": "markdown",
   "id": "95a26b7f",
   "metadata": {},
   "source": [
    "# 3.3 Merging Shock data with location"
   ]
  },
  {
   "cell_type": "code",
   "execution_count": null,
   "id": "86d762cd",
   "metadata": {},
   "outputs": [],
   "source": [
    "Jerk = pd.read_excel('TS converted Jerk Raw Data.xlsx')"
   ]
  },
  {
   "cell_type": "code",
   "execution_count": null,
   "id": "3d16724e",
   "metadata": {},
   "outputs": [],
   "source": [
    "Jerk.head()"
   ]
  },
  {
   "cell_type": "code",
   "execution_count": null,
   "id": "37391fb8",
   "metadata": {},
   "outputs": [],
   "source": [
    "Loc = pd.read_excel('TS converted Location Raw Data.xlsx')"
   ]
  },
  {
   "cell_type": "code",
   "execution_count": null,
   "id": "32970cd9",
   "metadata": {},
   "outputs": [],
   "source": [
    "Loc.head()"
   ]
  },
  {
   "cell_type": "code",
   "execution_count": null,
   "id": "4a807b26",
   "metadata": {},
   "outputs": [],
   "source": [
    "Loc['DateTime']=Loc['con_datetime'].dt.round('10min')"
   ]
  },
  {
   "cell_type": "code",
   "execution_count": null,
   "id": "dd682185",
   "metadata": {},
   "outputs": [],
   "source": [
    "Loc.head()"
   ]
  },
  {
   "cell_type": "code",
   "execution_count": null,
   "id": "eb8215df",
   "metadata": {},
   "outputs": [],
   "source": [
    "# Add truck no column to identify data later\n",
    "def Box(tag_id):\n",
    "    if tag_id == 2031010108:\n",
    "        return \"AHB-003\"\n",
    "    elif tag_id == 2031010170:\n",
    "        return \"AHB-001\"\n",
    "    elif tag_id == 2031010506:\n",
    "        return \"AHB-002\"\n",
    "    else:\n",
    "        return \"NaN\"\n",
    "\n",
    "Jerk[\"Box no\"] = Jerk[\"tag_id\"].apply(lambda tag_id: Box(tag_id))"
   ]
  },
  {
   "cell_type": "code",
   "execution_count": null,
   "id": "74c6340c",
   "metadata": {},
   "outputs": [],
   "source": [
    "Jerk.head()"
   ]
  },
  {
   "cell_type": "code",
   "execution_count": null,
   "id": "91455147",
   "metadata": {},
   "outputs": [],
   "source": [
    "# Add truck no column to identify data later\n",
    "def Box(tag_id):\n",
    "    if tag_id == 2031010108:\n",
    "        return \"AHB-003\"\n",
    "    elif tag_id == 2031010170:\n",
    "        return \"AHB-001\"\n",
    "    elif tag_id == 2031010506:\n",
    "        return \"AHB-002\"\n",
    "    else:\n",
    "        return \"NaN\"\n",
    "\n",
    "Loc[\"Box no\"] = Loc[\"tag_id\"].apply(lambda tag_id: Box(tag_id))"
   ]
  },
  {
   "cell_type": "code",
   "execution_count": null,
   "id": "6baae914",
   "metadata": {},
   "outputs": [],
   "source": [
    "Loc.head()"
   ]
  },
  {
   "cell_type": "code",
   "execution_count": null,
   "id": "baf8f325",
   "metadata": {},
   "outputs": [],
   "source": [
    "lat_lon=Loc.copy()"
   ]
  },
  {
   "cell_type": "code",
   "execution_count": null,
   "id": "e889ea04",
   "metadata": {},
   "outputs": [],
   "source": [
    "lat_lon['DateTime']=lat_lon['DateTime'].astype(str)"
   ]
  },
  {
   "cell_type": "code",
   "execution_count": null,
   "id": "8ea6373b",
   "metadata": {},
   "outputs": [],
   "source": [
    "lat_lon['x']=lat_lon['DateTime']+lat_lon['Box no']\n",
    "lat_lon"
   ]
  },
  {
   "cell_type": "code",
   "execution_count": null,
   "id": "045c722e",
   "metadata": {},
   "outputs": [],
   "source": [
    "Jerk['con_datetime']=Jerk['con_datetime'].astype(str)"
   ]
  },
  {
   "cell_type": "code",
   "execution_count": null,
   "id": "f041cb52",
   "metadata": {},
   "outputs": [],
   "source": [
    "Jerk['x']=Jerk['con_datetime']+Jerk['Box no']\n",
    "Jerk"
   ]
  },
  {
   "cell_type": "code",
   "execution_count": null,
   "id": "5e802322",
   "metadata": {},
   "outputs": [],
   "source": [
    "Jerk['Box no'].value_counts()"
   ]
  },
  {
   "cell_type": "code",
   "execution_count": null,
   "id": "aadd1ec0",
   "metadata": {},
   "outputs": [],
   "source": [
    "Left_join = pd.merge(lat_lon, \n",
    "                     Jerk, \n",
    "                     on ='x', \n",
    "                     how ='left')\n",
    "Left_join"
   ]
  },
  {
   "cell_type": "code",
   "execution_count": null,
   "id": "05b8a001",
   "metadata": {},
   "outputs": [],
   "source": [
    "Jerk_Loc=Left_join.copy()"
   ]
  },
  {
   "cell_type": "code",
   "execution_count": null,
   "id": "3f332dbd",
   "metadata": {},
   "outputs": [],
   "source": [
    "Jerk_Loc.head()"
   ]
  },
  {
   "cell_type": "code",
   "execution_count": null,
   "id": "d68a687e",
   "metadata": {},
   "outputs": [],
   "source": [
    "Jerk_Loc.dropna(axis=0, how='any', thresh=None, subset=None, inplace=True)"
   ]
  },
  {
   "cell_type": "code",
   "execution_count": null,
   "id": "16c12f45",
   "metadata": {},
   "outputs": [],
   "source": [
    "Jerk_Loc.head()"
   ]
  },
  {
   "cell_type": "code",
   "execution_count": null,
   "id": "ece91006",
   "metadata": {},
   "outputs": [],
   "source": [
    "# Add column lidopen, where intensity >= 1,formula to calculate lidopen\n",
    "Jerk_Loc['Shock']=((Jerk_Loc['ampx']**2)+(Jerk_Loc['ampy']**2)+(Jerk_Loc['ampz']**2))**0.5"
   ]
  },
  {
   "cell_type": "code",
   "execution_count": null,
   "id": "f4c00280",
   "metadata": {},
   "outputs": [],
   "source": [
    "Jerk_Loc.head()"
   ]
  },
  {
   "cell_type": "code",
   "execution_count": null,
   "id": "7d9d97ca",
   "metadata": {},
   "outputs": [],
   "source": [
    "Jerk_Loc.drop(['x','con_datetime_y','Box no_y','ampx','ampy','ampz'],axis=1,inplace=True)"
   ]
  },
  {
   "cell_type": "code",
   "execution_count": null,
   "id": "ee346824",
   "metadata": {},
   "outputs": [],
   "source": [
    "Jerk_Loc.head()"
   ]
  },
  {
   "cell_type": "code",
   "execution_count": null,
   "id": "6dcc77b2",
   "metadata": {},
   "outputs": [],
   "source": [
    "Jerk_Loc.to_excel('Shock with location.xlsx',index=False)"
   ]
  },
  {
   "cell_type": "code",
   "execution_count": null,
   "id": "36166ba1",
   "metadata": {},
   "outputs": [],
   "source": []
  }
 ],
 "metadata": {
  "kernelspec": {
   "display_name": "Python 3 (ipykernel)",
   "language": "python",
   "name": "python3"
  },
  "language_info": {
   "codemirror_mode": {
    "name": "ipython",
    "version": 3
   },
   "file_extension": ".py",
   "mimetype": "text/x-python",
   "name": "python",
   "nbconvert_exporter": "python",
   "pygments_lexer": "ipython3",
   "version": "3.9.7"
  }
 },
 "nbformat": 4,
 "nbformat_minor": 5
}
