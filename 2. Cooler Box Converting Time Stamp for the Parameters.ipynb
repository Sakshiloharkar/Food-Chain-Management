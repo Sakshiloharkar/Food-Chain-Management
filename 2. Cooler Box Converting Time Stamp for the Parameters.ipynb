{
 "cells": [
  {
   "cell_type": "code",
   "execution_count": null,
   "id": "86d14f71",
   "metadata": {},
   "outputs": [],
   "source": [
    "import pandas as pd\n",
    "import datetime"
   ]
  },
  {
   "cell_type": "markdown",
   "id": "6580160f",
   "metadata": {},
   "source": [
    "# 2.1 TS conversion- Monthly-Parameter- Light"
   ]
  },
  {
   "cell_type": "code",
   "execution_count": null,
   "id": "6925261f",
   "metadata": {},
   "outputs": [],
   "source": [
    "Light=pd.read_excel('Monthly_Rawdata_Light.xlsx')"
   ]
  },
  {
   "cell_type": "code",
   "execution_count": null,
   "id": "b40e603b",
   "metadata": {},
   "outputs": [],
   "source": [
    "Light.head(5)"
   ]
  },
  {
   "cell_type": "code",
   "execution_count": null,
   "id": "ebcb52d0",
   "metadata": {},
   "outputs": [],
   "source": [
    "# convert ts to proper date format\n",
    "s_time = pd.to_datetime(Light['ts']).dt.tz_localize(None)\n",
    "s_time"
   ]
  },
  {
   "cell_type": "code",
   "execution_count": null,
   "id": "582cf963",
   "metadata": {},
   "outputs": [],
   "source": [
    "Light['con_datetime']=s_time"
   ]
  },
  {
   "cell_type": "code",
   "execution_count": null,
   "id": "986e5e59",
   "metadata": {},
   "outputs": [],
   "source": [
    "Light.head()"
   ]
  },
  {
   "cell_type": "code",
   "execution_count": null,
   "id": "f3854e2b",
   "metadata": {},
   "outputs": [],
   "source": [
    "# Set con_datetime as index\n",
    "Light.set_index('con_datetime',inplace=True)\n",
    "Light.head()"
   ]
  },
  {
   "cell_type": "code",
   "execution_count": null,
   "id": "50ec86ea",
   "metadata": {},
   "outputs": [],
   "source": [
    "Light.drop(['trigger','ts'], axis = 1,inplace = True)"
   ]
  },
  {
   "cell_type": "code",
   "execution_count": null,
   "id": "78963c11",
   "metadata": {},
   "outputs": [],
   "source": [
    "Light.head()"
   ]
  },
  {
   "cell_type": "code",
   "execution_count": null,
   "id": "fed19a12",
   "metadata": {},
   "outputs": [],
   "source": [
    "Light.to_excel('TS converted Light Raw Data.xlsx')"
   ]
  },
  {
   "cell_type": "markdown",
   "id": "1314af65",
   "metadata": {},
   "source": [
    "# 2.2 TS conversion- Monthly-Parameter- Temp"
   ]
  },
  {
   "cell_type": "code",
   "execution_count": null,
   "id": "545c3ece",
   "metadata": {},
   "outputs": [],
   "source": [
    "Temp=pd.read_excel('Monthly_Rawdata_Temp.xlsx')\n",
    "Temp.head()"
   ]
  },
  {
   "cell_type": "code",
   "execution_count": null,
   "id": "7b3f899d",
   "metadata": {},
   "outputs": [],
   "source": [
    "# convert ts to proper date format\n",
    "s_time = pd.to_datetime(Temp['ts']).dt.tz_localize(None)\n",
    "s_time"
   ]
  },
  {
   "cell_type": "code",
   "execution_count": null,
   "id": "8a29b883",
   "metadata": {},
   "outputs": [],
   "source": [
    "Temp['con_datetime']=s_time"
   ]
  },
  {
   "cell_type": "code",
   "execution_count": null,
   "id": "34ef642b",
   "metadata": {},
   "outputs": [],
   "source": [
    "Temp.head()"
   ]
  },
  {
   "cell_type": "code",
   "execution_count": null,
   "id": "34f72c0e",
   "metadata": {},
   "outputs": [],
   "source": [
    "# Set con_datetime as index\n",
    "Temp.set_index('con_datetime',inplace=True)\n",
    "Temp.head()"
   ]
  },
  {
   "cell_type": "code",
   "execution_count": null,
   "id": "64101113",
   "metadata": {},
   "outputs": [],
   "source": [
    "Temp.drop(['ts'], axis = 1,inplace = True)"
   ]
  },
  {
   "cell_type": "code",
   "execution_count": null,
   "id": "16a65367",
   "metadata": {},
   "outputs": [],
   "source": [
    "Temp.head()"
   ]
  },
  {
   "cell_type": "code",
   "execution_count": null,
   "id": "b28ab84a",
   "metadata": {},
   "outputs": [],
   "source": [
    "Temp.to_excel('TS converted Temp Raw Data.xlsx')"
   ]
  },
  {
   "cell_type": "code",
   "execution_count": null,
   "id": "785da367",
   "metadata": {},
   "outputs": [],
   "source": []
  },
  {
   "cell_type": "markdown",
   "id": "da2b18ac",
   "metadata": {},
   "source": [
    "# 2.3 TS conversion- Monthly-Parameter- Shock"
   ]
  },
  {
   "cell_type": "code",
   "execution_count": null,
   "id": "19efa683",
   "metadata": {},
   "outputs": [],
   "source": [
    "Shock=pd.read_excel('Monthly_Rawdata_Jerk.xlsx')"
   ]
  },
  {
   "cell_type": "code",
   "execution_count": null,
   "id": "a5b54bfb",
   "metadata": {},
   "outputs": [],
   "source": [
    "Shock.head()"
   ]
  },
  {
   "cell_type": "code",
   "execution_count": null,
   "id": "5dc1eb63",
   "metadata": {},
   "outputs": [],
   "source": [
    "# convert ts to proper date format\n",
    "s_time = pd.to_datetime(Shock['ts']).dt.tz_localize(None)\n",
    "s_time"
   ]
  },
  {
   "cell_type": "code",
   "execution_count": null,
   "id": "a680d09e",
   "metadata": {},
   "outputs": [],
   "source": [
    "Shock['con_datetime']=s_time"
   ]
  },
  {
   "cell_type": "code",
   "execution_count": null,
   "id": "d0b6108d",
   "metadata": {},
   "outputs": [],
   "source": [
    "Shock.head()"
   ]
  },
  {
   "cell_type": "code",
   "execution_count": null,
   "id": "58579f01",
   "metadata": {},
   "outputs": [],
   "source": [
    "# Set con_datetime as index\n",
    "Shock.set_index('con_datetime',inplace=True)\n",
    "Shock.head()"
   ]
  },
  {
   "cell_type": "code",
   "execution_count": null,
   "id": "912160b5",
   "metadata": {},
   "outputs": [],
   "source": [
    "Shock.drop(['ts'], axis = 1,inplace = True)"
   ]
  },
  {
   "cell_type": "code",
   "execution_count": null,
   "id": "aeb9f458",
   "metadata": {},
   "outputs": [],
   "source": [
    "Shock.head()"
   ]
  },
  {
   "cell_type": "code",
   "execution_count": null,
   "id": "4c9eea0b",
   "metadata": {},
   "outputs": [],
   "source": [
    "Shock.to_excel('TS converted Jerk Raw Data.xlsx')"
   ]
  },
  {
   "cell_type": "code",
   "execution_count": null,
   "id": "7d978ee0",
   "metadata": {},
   "outputs": [],
   "source": []
  },
  {
   "cell_type": "markdown",
   "id": "1fbe5cd1",
   "metadata": {},
   "source": [
    "# 2.4 TS conversion- Monthly-Parameter- Location"
   ]
  },
  {
   "cell_type": "code",
   "execution_count": null,
   "id": "a22c0eec",
   "metadata": {},
   "outputs": [],
   "source": [
    "location=pd.read_excel('Monthly_Rawdata_Location.xlsx')"
   ]
  },
  {
   "cell_type": "code",
   "execution_count": null,
   "id": "93ee3c87",
   "metadata": {},
   "outputs": [],
   "source": [
    "location.head()"
   ]
  },
  {
   "cell_type": "code",
   "execution_count": null,
   "id": "5bf8abee",
   "metadata": {},
   "outputs": [],
   "source": [
    "# convert ts to proper date format\n",
    "s_time = pd.to_datetime(location['ts']).dt.tz_localize(None)\n",
    "s_time"
   ]
  },
  {
   "cell_type": "code",
   "execution_count": null,
   "id": "4606b058",
   "metadata": {},
   "outputs": [],
   "source": [
    "location['con_datetime']=s_time"
   ]
  },
  {
   "cell_type": "code",
   "execution_count": null,
   "id": "2f54b90a",
   "metadata": {},
   "outputs": [],
   "source": [
    "location.head()"
   ]
  },
  {
   "cell_type": "code",
   "execution_count": null,
   "id": "fb20e396",
   "metadata": {},
   "outputs": [],
   "source": [
    "# Set con_datetime as index\n",
    "location.set_index('con_datetime',inplace=True)\n",
    "location.head()"
   ]
  },
  {
   "cell_type": "code",
   "execution_count": null,
   "id": "2fb7e6c3",
   "metadata": {},
   "outputs": [],
   "source": [
    "location.drop(['ts'], axis = 1,inplace = True)"
   ]
  },
  {
   "cell_type": "code",
   "execution_count": null,
   "id": "5c27f782",
   "metadata": {},
   "outputs": [],
   "source": [
    "location.head()"
   ]
  },
  {
   "cell_type": "code",
   "execution_count": null,
   "id": "a183bc20",
   "metadata": {},
   "outputs": [],
   "source": [
    "location.to_excel('TS converted Location Raw Data.xlsx')"
   ]
  },
  {
   "cell_type": "code",
   "execution_count": null,
   "id": "f7d4a436",
   "metadata": {},
   "outputs": [],
   "source": []
  }
 ],
 "metadata": {
  "kernelspec": {
   "display_name": "Python 3 (ipykernel)",
   "language": "python",
   "name": "python3"
  },
  "language_info": {
   "codemirror_mode": {
    "name": "ipython",
    "version": 3
   },
   "file_extension": ".py",
   "mimetype": "text/x-python",
   "name": "python",
   "nbconvert_exporter": "python",
   "pygments_lexer": "ipython3",
   "version": "3.9.7"
  }
 },
 "nbformat": 4,
 "nbformat_minor": 5
}
